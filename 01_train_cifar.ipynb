{
 "cells": [
  {
   "cell_type": "markdown",
   "id": "eceafea9-13ea-42de-a028-9745d7e4e7ef",
   "metadata": {},
   "source": [
    "## Training"
   ]
  },
  {
   "cell_type": "code",
   "execution_count": 1,
   "id": "c77df9ef-97ea-4be0-aaa1-81156a613927",
   "metadata": {},
   "outputs": [],
   "source": [
    "from types import SimpleNamespace"
   ]
  },
  {
   "cell_type": "code",
   "execution_count": 2,
   "id": "4317cb9f-e25b-4ecd-a253-b562a64a2e2d",
   "metadata": {},
   "outputs": [],
   "source": [
    "import wandb, torch\n",
    "from ddpm_conditional import *"
   ]
  },
  {
   "cell_type": "code",
   "execution_count": 3,
   "id": "1d77f891-038b-4743-85e5-9b15fc39d96e",
   "metadata": {},
   "outputs": [
    {
     "data": {
      "text/plain": [
       "namespace(run_name='DDPM_conditional',\n",
       "          epochs=100,\n",
       "          noise_steps=1000,\n",
       "          seed=42,\n",
       "          batch_size=10,\n",
       "          img_size=64,\n",
       "          dataset_path=Path('datasets/cifar10_64/cifar10-64'),\n",
       "          train_folder='train',\n",
       "          val_folder='test',\n",
       "          device='cpu',\n",
       "          slice_size=1,\n",
       "          do_validation=True,\n",
       "          fp16=True,\n",
       "          log_every_epoch=10,\n",
       "          num_workers=10,\n",
       "          lr=0.005)"
      ]
     },
     "execution_count": 3,
     "metadata": {},
     "output_type": "execute_result"
    }
   ],
   "source": [
    "config"
   ]
  },
  {
   "cell_type": "code",
   "execution_count": 4,
   "id": "7353bb9a-ec6e-4965-b67a-9d3e46975c17",
   "metadata": {},
   "outputs": [],
   "source": [
    "config.noise_steps = 100\n",
    "config.epochs = 10\n",
    "config.slice_size = 100\n",
    "config.use_wandb = True\n",
    "config.dataset_artifact = 'CIFAR10_64:v1'\n",
    "config.log_every_epoch = 5\n",
    "DEVICE = torch.device('cpu')"
   ]
  },
  {
   "cell_type": "code",
   "execution_count": 5,
   "id": "201c0357-a4e7-4c76-bf1e-5e090340eccb",
   "metadata": {},
   "outputs": [],
   "source": [
    "diff = Diffusion(noise_steps=config.noise_steps, img_size=64, device = DEVICE)"
   ]
  },
  {
   "cell_type": "code",
   "execution_count": 6,
   "id": "5ce6dc47-ed1e-4011-bf55-d8f51690054c",
   "metadata": {},
   "outputs": [
    {
     "name": "stderr",
     "output_type": "stream",
     "text": [
      "\u001b[34m\u001b[1mwandb\u001b[0m: Currently logged in as: \u001b[33mnikhilbisht65\u001b[0m (\u001b[33mnikhilbisht65-florida-state-university\u001b[0m). Use \u001b[1m`wandb login --relogin`\u001b[0m to force relogin\n",
      "\u001b[34m\u001b[1mwandb\u001b[0m: Using wandb-core as the SDK backend.  Please refer to https://wandb.me/wandb-core for more information.\n"
     ]
    },
    {
     "data": {
      "text/html": [
       "Tracking run with wandb version 0.19.2"
      ],
      "text/plain": [
       "<IPython.core.display.HTML object>"
      ]
     },
     "metadata": {},
     "output_type": "display_data"
    },
    {
     "data": {
      "text/html": [
       "Run data is saved locally in <code>/home/nbisht/scripts/diffusion_test/cddpm/wandb/run-20250115_193448-9m51x500</code>"
      ],
      "text/plain": [
       "<IPython.core.display.HTML object>"
      ]
     },
     "metadata": {},
     "output_type": "display_data"
    },
    {
     "data": {
      "text/html": [
       "Syncing run <strong><a href='https://wandb.ai/nikhilbisht65-florida-state-university/train_sd/runs/9m51x500' target=\"_blank\">absurd-snowball-29</a></strong> to <a href='https://wandb.ai/nikhilbisht65-florida-state-university/train_sd' target=\"_blank\">Weights & Biases</a> (<a href='https://wandb.me/developer-guide' target=\"_blank\">docs</a>)<br>"
      ],
      "text/plain": [
       "<IPython.core.display.HTML object>"
      ]
     },
     "metadata": {},
     "output_type": "display_data"
    },
    {
     "data": {
      "text/html": [
       " View project at <a href='https://wandb.ai/nikhilbisht65-florida-state-university/train_sd' target=\"_blank\">https://wandb.ai/nikhilbisht65-florida-state-university/train_sd</a>"
      ],
      "text/plain": [
       "<IPython.core.display.HTML object>"
      ]
     },
     "metadata": {},
     "output_type": "display_data"
    },
    {
     "data": {
      "text/html": [
       " View run at <a href='https://wandb.ai/nikhilbisht65-florida-state-university/train_sd/runs/9m51x500' target=\"_blank\">https://wandb.ai/nikhilbisht65-florida-state-university/train_sd/runs/9m51x500</a>"
      ],
      "text/plain": [
       "<IPython.core.display.HTML object>"
      ]
     },
     "metadata": {},
     "output_type": "display_data"
    },
    {
     "name": "stdout",
     "output_type": "stream",
     "text": [
      "Train dataset Initial: 5000 images\n",
      "Val dataset Initial: 1000 images\n",
      "Train dataset Final: 5000 images\n",
      "Val dataset Final: 1000 images\n"
     ]
    },
    {
     "data": {
      "text/html": [
       "\n",
       "<style>\n",
       "    /* Turns off some styling */\n",
       "    progress {\n",
       "        /* gets rid of default border in Firefox and Opera. */\n",
       "        border: none;\n",
       "        /* Needs to be in here for Safari polyfill so background images work as expected. */\n",
       "        background-size: auto;\n",
       "    }\n",
       "    progress:not([value]), progress:not([value])::-webkit-progress-bar {\n",
       "        background: repeating-linear-gradient(45deg, #7e7e7e, #7e7e7e 10px, #5c5c5c 10px, #5c5c5c 20px);\n",
       "    }\n",
       "    .progress-bar-interrupted, .progress-bar-interrupted::-webkit-progress-bar {\n",
       "        background: #F44336;\n",
       "    }\n",
       "</style>\n"
      ],
      "text/plain": [
       "<IPython.core.display.HTML object>"
      ]
     },
     "metadata": {},
     "output_type": "display_data"
    },
    {
     "data": {
      "text/html": [
       "\n",
       "    <div>\n",
       "      <progress value='0' class='' max='10' style='width:300px; height:20px; vertical-align: middle;'></progress>\n",
       "      0.00% [0/10 00:00&lt;?]\n",
       "    </div>\n",
       "    "
      ],
      "text/plain": [
       "<IPython.core.display.HTML object>"
      ]
     },
     "metadata": {},
     "output_type": "display_data"
    },
    {
     "name": "stderr",
     "output_type": "stream",
     "text": [
      "07:34:51 - INFO: Starting epoch 0:\n"
     ]
    },
    {
     "data": {
      "text/html": [
       "\n",
       "<style>\n",
       "    /* Turns off some styling */\n",
       "    progress {\n",
       "        /* gets rid of default border in Firefox and Opera. */\n",
       "        border: none;\n",
       "        /* Needs to be in here for Safari polyfill so background images work as expected. */\n",
       "        background-size: auto;\n",
       "    }\n",
       "    progress:not([value]), progress:not([value])::-webkit-progress-bar {\n",
       "        background: repeating-linear-gradient(45deg, #7e7e7e, #7e7e7e 10px, #5c5c5c 10px, #5c5c5c 20px);\n",
       "    }\n",
       "    .progress-bar-interrupted, .progress-bar-interrupted::-webkit-progress-bar {\n",
       "        background: #F44336;\n",
       "    }\n",
       "</style>\n"
      ],
      "text/plain": [
       "<IPython.core.display.HTML object>"
      ]
     },
     "metadata": {},
     "output_type": "display_data"
    },
    {
     "data": {
      "text/html": [
       "\n",
       "    <div>\n",
       "      <progress value='394' class='' max='625' style='width:300px; height:20px; vertical-align: middle;'></progress>\n",
       "      63.04% [394/625 12:54&lt;07:33 MSE=1.001]\n",
       "    </div>\n",
       "    "
      ],
      "text/plain": [
       "<IPython.core.display.HTML object>"
      ]
     },
     "metadata": {},
     "output_type": "display_data"
    }
   ],
   "source": [
    "with wandb.init(project=\"train_sd\", group=\"train\", config=config):\n",
    "    wandb.use_artifact(config.dataset_artifact, type='dataset')\n",
    "    diff.prepare(config)\n",
    "    diff.fit(config)"
   ]
  }
 ],
 "metadata": {
  "kernelspec": {
   "display_name": "Python 3 (ipykernel)",
   "language": "python",
   "name": "python3"
  },
  "language_info": {
   "codemirror_mode": {
    "name": "ipython",
    "version": 3
   },
   "file_extension": ".py",
   "mimetype": "text/x-python",
   "name": "python",
   "nbconvert_exporter": "python",
   "pygments_lexer": "ipython3",
   "version": "3.10.12"
  }
 },
 "nbformat": 4,
 "nbformat_minor": 5
}
